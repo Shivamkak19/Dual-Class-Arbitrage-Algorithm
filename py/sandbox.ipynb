{
 "cells": [
  {
   "cell_type": "code",
   "execution_count": 3,
   "metadata": {},
   "outputs": [],
   "source": [
    "from tickers import tickers\n",
    "import pandas as pd\n"
   ]
  },
  {
   "cell_type": "code",
   "execution_count": 5,
   "metadata": {},
   "outputs": [
    {
     "data": {
      "text/html": [
       "<div>\n",
       "<style scoped>\n",
       "    .dataframe tbody tr th:only-of-type {\n",
       "        vertical-align: middle;\n",
       "    }\n",
       "\n",
       "    .dataframe tbody tr th {\n",
       "        vertical-align: top;\n",
       "    }\n",
       "\n",
       "    .dataframe thead th {\n",
       "        text-align: right;\n",
       "    }\n",
       "</style>\n",
       "<table border=\"1\" class=\"dataframe\">\n",
       "  <thead>\n",
       "    <tr style=\"text-align: right;\">\n",
       "      <th></th>\n",
       "      <th>class_A</th>\n",
       "      <th>class_B</th>\n",
       "    </tr>\n",
       "  </thead>\n",
       "  <tbody>\n",
       "    <tr>\n",
       "      <th>0</th>\n",
       "      <td>ARTNA</td>\n",
       "      <td>ARTNB</td>\n",
       "    </tr>\n",
       "    <tr>\n",
       "      <th>1</th>\n",
       "      <td>BELFA</td>\n",
       "      <td>BELFB</td>\n",
       "    </tr>\n",
       "    <tr>\n",
       "      <th>2</th>\n",
       "      <td>BRK.A</td>\n",
       "      <td>BRK.B</td>\n",
       "    </tr>\n",
       "    <tr>\n",
       "      <th>3</th>\n",
       "      <td>BIO</td>\n",
       "      <td>BIO.B</td>\n",
       "    </tr>\n",
       "    <tr>\n",
       "      <th>4</th>\n",
       "      <td>BF.A</td>\n",
       "      <td>BF.B</td>\n",
       "    </tr>\n",
       "    <tr>\n",
       "      <th>5</th>\n",
       "      <td>STZ</td>\n",
       "      <td>STZ.B</td>\n",
       "    </tr>\n",
       "    <tr>\n",
       "      <th>6</th>\n",
       "      <td>FOXA</td>\n",
       "      <td>FOX</td>\n",
       "    </tr>\n",
       "    <tr>\n",
       "      <th>7</th>\n",
       "      <td>GEF</td>\n",
       "      <td>GEF.B</td>\n",
       "    </tr>\n",
       "    <tr>\n",
       "      <th>8</th>\n",
       "      <td>LEN</td>\n",
       "      <td>LEN.B</td>\n",
       "    </tr>\n",
       "  </tbody>\n",
       "</table>\n",
       "</div>"
      ],
      "text/plain": [
       "  class_A class_B\n",
       "0   ARTNA   ARTNB\n",
       "1   BELFA   BELFB\n",
       "2   BRK.A   BRK.B\n",
       "3     BIO   BIO.B\n",
       "4    BF.A    BF.B\n",
       "5     STZ   STZ.B\n",
       "6    FOXA     FOX\n",
       "7     GEF   GEF.B\n",
       "8     LEN   LEN.B"
      ]
     },
     "execution_count": 5,
     "metadata": {},
     "output_type": "execute_result"
    }
   ],
   "source": [
    "df = pd.read_csv(\"backup.csv\")\n",
    "df.head(10)"
   ]
  },
  {
   "cell_type": "code",
   "execution_count": 7,
   "metadata": {},
   "outputs": [
    {
     "data": {
      "text/html": [
       "<div>\n",
       "<style scoped>\n",
       "    .dataframe tbody tr th:only-of-type {\n",
       "        vertical-align: middle;\n",
       "    }\n",
       "\n",
       "    .dataframe tbody tr th {\n",
       "        vertical-align: top;\n",
       "    }\n",
       "\n",
       "    .dataframe thead th {\n",
       "        text-align: right;\n",
       "    }\n",
       "</style>\n",
       "<table border=\"1\" class=\"dataframe\">\n",
       "  <thead>\n",
       "    <tr style=\"text-align: right;\">\n",
       "      <th></th>\n",
       "      <th>class_A</th>\n",
       "      <th>class_B</th>\n",
       "      <th>open_price_A</th>\n",
       "      <th>current_price_A</th>\n",
       "      <th>update_time_A</th>\n",
       "      <th>open_price_B</th>\n",
       "      <th>current_price_B</th>\n",
       "      <th>update_time_B</th>\n",
       "      <th>open_price_margin</th>\n",
       "      <th>current_price_margin</th>\n",
       "      <th>position</th>\n",
       "    </tr>\n",
       "  </thead>\n",
       "  <tbody>\n",
       "    <tr>\n",
       "      <th>0</th>\n",
       "      <td>BELFA</td>\n",
       "      <td>BELFB</td>\n",
       "      <td>49.0</td>\n",
       "      <td>49.03</td>\n",
       "      <td>8141500</td>\n",
       "      <td>49.619999</td>\n",
       "      <td>50.68</td>\n",
       "      <td>8141729</td>\n",
       "      <td>0.619999</td>\n",
       "      <td>1.65</td>\n",
       "      <td>False</td>\n",
       "    </tr>\n",
       "    <tr>\n",
       "      <th>1</th>\n",
       "      <td>FOXA</td>\n",
       "      <td>FOX</td>\n",
       "      <td>34.599998</td>\n",
       "      <td>33.8</td>\n",
       "      <td>8141807</td>\n",
       "      <td>32.450001</td>\n",
       "      <td>31.12</td>\n",
       "      <td>8141641</td>\n",
       "      <td>2.149998</td>\n",
       "      <td>2.68</td>\n",
       "      <td>False</td>\n",
       "    </tr>\n",
       "  </tbody>\n",
       "</table>\n",
       "</div>"
      ],
      "text/plain": [
       "  class_A class_B open_price_A current_price_A update_time_A open_price_B  \\\n",
       "0   BELFA   BELFB         49.0           49.03       8141500    49.619999   \n",
       "1    FOXA     FOX    34.599998            33.8       8141807    32.450001   \n",
       "\n",
       "  current_price_B update_time_B open_price_margin current_price_margin  \\\n",
       "0           50.68       8141729          0.619999                 1.65   \n",
       "1           31.12       8141641          2.149998                 2.68   \n",
       "\n",
       "   position  \n",
       "0     False  \n",
       "1     False  "
      ]
     },
     "execution_count": 7,
     "metadata": {},
     "output_type": "execute_result"
    }
   ],
   "source": [
    "test = tickers()\n",
    "df = test.getStock()\n",
    "\n",
    "test.updateValues()\n",
    "\n",
    "df.head()\n",
    "\n",
    "del df[\"json_A\"]\n",
    "del df[\"json_B\"]\n",
    "del df[\"API_path_A\"]\n",
    "del df[\"API_path_B\"]\n",
    "\n",
    "df.head(10)"
   ]
  },
  {
   "cell_type": "code",
   "execution_count": 6,
   "metadata": {},
   "outputs": [
    {
     "data": {
      "text/plain": [
       "float"
      ]
     },
     "execution_count": 6,
     "metadata": {},
     "output_type": "execute_result"
    }
   ],
   "source": [
    "type(df[\"current_price_A\"][0])"
   ]
  }
 ],
 "metadata": {
  "kernelspec": {
   "display_name": "Python 3",
   "language": "python",
   "name": "python3"
  },
  "language_info": {
   "codemirror_mode": {
    "name": "ipython",
    "version": 3
   },
   "file_extension": ".py",
   "mimetype": "text/x-python",
   "name": "python",
   "nbconvert_exporter": "python",
   "pygments_lexer": "ipython3",
   "version": "3.11.4"
  },
  "orig_nbformat": 4
 },
 "nbformat": 4,
 "nbformat_minor": 2
}
